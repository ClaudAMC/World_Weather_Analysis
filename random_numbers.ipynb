{
 "cells": [
  {
   "cell_type": "code",
   "execution_count": 2,
   "id": "1921e945",
   "metadata": {},
   "outputs": [],
   "source": [
    "# Import the random module\n",
    "import random"
   ]
  },
  {
   "cell_type": "code",
   "execution_count": 3,
   "id": "7572e48b",
   "metadata": {},
   "outputs": [
    {
     "data": {
      "text/plain": [
       "33"
      ]
     },
     "execution_count": 3,
     "metadata": {},
     "output_type": "execute_result"
    }
   ],
   "source": [
    "# The randint() function - random integer btwn -90 to 90 degrees (for latitude)\n",
    "random.randint(-90,90)"
   ]
  },
  {
   "cell_type": "code",
   "execution_count": 4,
   "id": "adee9693",
   "metadata": {},
   "outputs": [
    {
     "data": {
      "text/plain": [
       "0.07983467535067601"
      ]
     },
     "execution_count": 4,
     "metadata": {},
     "output_type": "execute_result"
    }
   ],
   "source": [
    "# The random() function [default is # from 0-1]\n",
    "random.random()"
   ]
  },
  {
   "cell_type": "code",
   "execution_count": 6,
   "id": "7023b0af",
   "metadata": {},
   "outputs": [
    {
     "data": {
      "text/plain": [
       "[-25.804872772914795,\n",
       " 77.01621281597696,\n",
       " -31.485184606223182,\n",
       " 41.639826970968514,\n",
       " 85.22247361700994,\n",
       " -29.3790196714573,\n",
       " 50.90449167419162,\n",
       " 88.74996618310793,\n",
       " 11.898112589549951,\n",
       " -30.311707099429466]"
      ]
     },
     "execution_count": 6,
     "metadata": {},
     "output_type": "execute_result"
    }
   ],
   "source": [
    "# We want random latitudes so we combine both to get a float btwn -90 and 89 + a random decimal:\n",
    "# use: random_number = random.randint(-90,89) + random.random()\n",
    "# lets generate 10 random latitude using the function above:\n",
    "\n",
    "x = 1\n",
    "latitudes = []\n",
    "\n",
    "while x < 11:\n",
    "    random_lat = random.randint(-90,89) + random.random()\n",
    "    latitudes.append(random_lat)\n",
    "    \n",
    "    x += 1\n",
    "\n",
    "latitudes"
   ]
  },
  {
   "cell_type": "code",
   "execution_count": 8,
   "id": "d357d07d",
   "metadata": {},
   "outputs": [
    {
     "data": {
      "text/plain": [
       "-27"
      ]
     },
     "execution_count": 8,
     "metadata": {},
     "output_type": "execute_result"
    }
   ],
   "source": [
    "# We could use the above to longitudes too but the whole code is abit long\n",
    "\n",
    "# use the randrange() function\n",
    "random.randrange(-90,90, step = 1)"
   ]
  },
  {
   "cell_type": "code",
   "execution_count": 9,
   "id": "4d74b523",
   "metadata": {},
   "outputs": [
    {
     "data": {
      "text/plain": [
       "49.31886611064954"
      ]
     },
     "execution_count": 9,
     "metadata": {},
     "output_type": "execute_result"
    }
   ],
   "source": [
    "# Try the uniform() function - this will generate a floating point decimal btwn the 2 given numbers\n",
    "random.uniform(-90,90)\n",
    "\n",
    "# This is perfect!"
   ]
  },
  {
   "cell_type": "code",
   "execution_count": 10,
   "id": "cacbbd39",
   "metadata": {},
   "outputs": [],
   "source": [
    "# Use NumPy and Random modules\n",
    "\n",
    "# Import the NumPy module\n",
    "import numpy as np\n"
   ]
  },
  {
   "cell_type": "code",
   "execution_count": 11,
   "id": "6260db13",
   "metadata": {},
   "outputs": [
    {
     "data": {
      "text/plain": [
       "46.98524303022046"
      ]
     },
     "execution_count": 11,
     "metadata": {},
     "output_type": "execute_result"
    }
   ],
   "source": [
    "np.random.uniform(-90.000,90.000)"
   ]
  },
  {
   "cell_type": "code",
   "execution_count": 12,
   "id": "a87ebf60",
   "metadata": {},
   "outputs": [
    {
     "data": {
      "text/plain": [
       "array([-89.50459844, -23.58506536, -39.00451762, -49.48377299,\n",
       "        40.1968437 ,  56.08515921,  22.17067066,  74.21896368,\n",
       "        41.115432  ,  27.07944678, -55.87310045, -14.97669091,\n",
       "        -2.852728  , -37.12512076, -88.16656606, -10.7764435 ,\n",
       "         9.04330476,   0.62922381,  35.33266952, -65.49761154,\n",
       "        10.14936291,   2.42563934,  -5.86761043, -80.90507707,\n",
       "         8.11556115, -18.96112426, -60.06295537, -64.2269397 ,\n",
       "       -11.43602438,  49.06820313, -75.30813918, -13.43651829,\n",
       "       -37.05042862, -85.58442687, -51.16936367, -65.612302  ,\n",
       "        -2.00153509,  44.04749594,  28.59159615,  63.82012809,\n",
       "         1.58346186,  87.39641161,  14.18999602,  34.38645306,\n",
       "       -24.63831105,   2.87854414,  21.93303471,  66.23388447,\n",
       "       -44.33731989,  -0.99385953])"
      ]
     },
     "execution_count": 12,
     "metadata": {},
     "output_type": "execute_result"
    }
   ],
   "source": [
    "# use the size argument in the function above to get that many numbers\n",
    "\n",
    "np.random.uniform(-90.000, 90.000, size = 50)\n",
    "\n",
    "# from this we get 50 random numbers"
   ]
  },
  {
   "cell_type": "code",
   "execution_count": 14,
   "id": "15d46b95",
   "metadata": {},
   "outputs": [
    {
     "name": "stdout",
     "output_type": "stream",
     "text": [
      "11.3 µs ± 32.7 ns per loop (mean ± std. dev. of 7 runs, 100000 loops each)\n"
     ]
    }
   ],
   "source": [
    "# We can use the timeit magic command to find out how long a function takes to run:\n",
    "\n",
    "# Import timeit\n",
    "\n",
    "import timeit\n",
    "\n",
    "%timeit np.random.uniform(-90.000, 90.000, size = 1500)"
   ]
  },
  {
   "cell_type": "code",
   "execution_count": null,
   "id": "c3432fb6",
   "metadata": {},
   "outputs": [],
   "source": []
  }
 ],
 "metadata": {
  "kernelspec": {
   "display_name": "PythonData",
   "language": "python",
   "name": "pythondata"
  },
  "language_info": {
   "codemirror_mode": {
    "name": "ipython",
    "version": 3
   },
   "file_extension": ".py",
   "mimetype": "text/x-python",
   "name": "python",
   "nbconvert_exporter": "python",
   "pygments_lexer": "ipython3",
   "version": "3.7.13"
  }
 },
 "nbformat": 4,
 "nbformat_minor": 5
}
